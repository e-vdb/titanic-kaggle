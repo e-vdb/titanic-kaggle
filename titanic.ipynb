{
 "cells": [
  {
   "cell_type": "code",
   "execution_count": 1,
   "id": "institutional-moses",
   "metadata": {
    "_cell_guid": "b1076dfc-b9ad-4769-8c92-a6c4dae69d19",
    "_uuid": "8f2839f25d086af736a60e9eeb907d3b93b6e0e5",
    "execution": {
     "iopub.execute_input": "2021-06-14T11:40:55.505089Z",
     "iopub.status.busy": "2021-06-14T11:40:55.504428Z",
     "iopub.status.idle": "2021-06-14T11:40:56.283631Z",
     "shell.execute_reply": "2021-06-14T11:40:56.284301Z",
     "shell.execute_reply.started": "2021-06-14T11:18:09.550413Z"
    },
    "papermill": {
     "duration": 0.809997,
     "end_time": "2021-06-14T11:40:56.284737",
     "exception": false,
     "start_time": "2021-06-14T11:40:55.474740",
     "status": "completed"
    },
    "tags": []
   },
   "outputs": [
    {
     "name": "stdout",
     "output_type": "stream",
     "text": [
      "/kaggle/input/titanic/train.csv\n",
      "/kaggle/input/titanic/test.csv\n",
      "/kaggle/input/titanic/gender_submission.csv\n"
     ]
    }
   ],
   "source": [
    "# This Python 3 environment comes with many helpful analytics libraries installed\n",
    "# It is defined by the kaggle/python Docker image: https://github.com/kaggle/docker-python\n",
    "# For example, here's several helpful packages to load\n",
    "\n",
    "import numpy as np # linear algebra\n",
    "import pandas as pd # data processing, CSV file I/O (e.g. pd.read_csv)\n",
    "import matplotlib.pyplot as plt\n",
    "import seaborn as sns\n",
    "# Input data files are available in the read-only \"../input/\" directory\n",
    "# For example, running this (by clicking run or pressing Shift+Enter) will list all files under the input directory\n",
    "\n",
    "import os\n",
    "for dirname, _, filenames in os.walk('/kaggle/input'):\n",
    "    for filename in filenames:\n",
    "        print(os.path.join(dirname, filename))\n",
    "\n",
    "# You can write up to 20GB to the current directory (/kaggle/working/) that gets preserved as output when you create a version using \"Save & Run All\" \n",
    "# You can also write temporary files to /kaggle/temp/, but they won't be saved outside of the current session"
   ]
  },
  {
   "cell_type": "markdown",
   "id": "lucky-commissioner",
   "metadata": {
    "papermill": {
     "duration": 0.020939,
     "end_time": "2021-06-14T11:40:56.334108",
     "exception": false,
     "start_time": "2021-06-14T11:40:56.313169",
     "status": "completed"
    },
    "tags": []
   },
   "source": [
    "# 1. Data visualisation"
   ]
  },
  {
   "cell_type": "markdown",
   "id": "vietnamese-emergency",
   "metadata": {
    "papermill": {
     "duration": 0.026028,
     "end_time": "2021-06-14T11:40:56.381490",
     "exception": false,
     "start_time": "2021-06-14T11:40:56.355462",
     "status": "completed"
    },
    "tags": []
   },
   "source": [
    "We first examine the train dataset."
   ]
  },
  {
   "cell_type": "code",
   "execution_count": 2,
   "id": "sufficient-browse",
   "metadata": {
    "execution": {
     "iopub.execute_input": "2021-06-14T11:40:56.428192Z",
     "iopub.status.busy": "2021-06-14T11:40:56.427324Z",
     "iopub.status.idle": "2021-06-14T11:40:56.473529Z",
     "shell.execute_reply": "2021-06-14T11:40:56.474140Z",
     "shell.execute_reply.started": "2021-06-14T11:18:10.526895Z"
    },
    "papermill": {
     "duration": 0.071914,
     "end_time": "2021-06-14T11:40:56.474353",
     "exception": false,
     "start_time": "2021-06-14T11:40:56.402439",
     "status": "completed"
    },
    "tags": []
   },
   "outputs": [
    {
     "name": "stdout",
     "output_type": "stream",
     "text": [
      "Index(['PassengerId', 'Survived', 'Pclass', 'Name', 'Sex', 'Age', 'SibSp',\n",
      "       'Parch', 'Ticket', 'Fare', 'Cabin', 'Embarked'],\n",
      "      dtype='object')\n"
     ]
    },
    {
     "data": {
      "text/html": [
       "<div>\n",
       "<style scoped>\n",
       "    .dataframe tbody tr th:only-of-type {\n",
       "        vertical-align: middle;\n",
       "    }\n",
       "\n",
       "    .dataframe tbody tr th {\n",
       "        vertical-align: top;\n",
       "    }\n",
       "\n",
       "    .dataframe thead th {\n",
       "        text-align: right;\n",
       "    }\n",
       "</style>\n",
       "<table border=\"1\" class=\"dataframe\">\n",
       "  <thead>\n",
       "    <tr style=\"text-align: right;\">\n",
       "      <th></th>\n",
       "      <th>PassengerId</th>\n",
       "      <th>Survived</th>\n",
       "      <th>Pclass</th>\n",
       "      <th>Name</th>\n",
       "      <th>Sex</th>\n",
       "      <th>Age</th>\n",
       "      <th>SibSp</th>\n",
       "      <th>Parch</th>\n",
       "      <th>Ticket</th>\n",
       "      <th>Fare</th>\n",
       "      <th>Cabin</th>\n",
       "      <th>Embarked</th>\n",
       "    </tr>\n",
       "  </thead>\n",
       "  <tbody>\n",
       "    <tr>\n",
       "      <th>0</th>\n",
       "      <td>1</td>\n",
       "      <td>0</td>\n",
       "      <td>3</td>\n",
       "      <td>Braund, Mr. Owen Harris</td>\n",
       "      <td>male</td>\n",
       "      <td>22.0</td>\n",
       "      <td>1</td>\n",
       "      <td>0</td>\n",
       "      <td>A/5 21171</td>\n",
       "      <td>7.2500</td>\n",
       "      <td>NaN</td>\n",
       "      <td>S</td>\n",
       "    </tr>\n",
       "    <tr>\n",
       "      <th>1</th>\n",
       "      <td>2</td>\n",
       "      <td>1</td>\n",
       "      <td>1</td>\n",
       "      <td>Cumings, Mrs. John Bradley (Florence Briggs Th...</td>\n",
       "      <td>female</td>\n",
       "      <td>38.0</td>\n",
       "      <td>1</td>\n",
       "      <td>0</td>\n",
       "      <td>PC 17599</td>\n",
       "      <td>71.2833</td>\n",
       "      <td>C85</td>\n",
       "      <td>C</td>\n",
       "    </tr>\n",
       "    <tr>\n",
       "      <th>2</th>\n",
       "      <td>3</td>\n",
       "      <td>1</td>\n",
       "      <td>3</td>\n",
       "      <td>Heikkinen, Miss. Laina</td>\n",
       "      <td>female</td>\n",
       "      <td>26.0</td>\n",
       "      <td>0</td>\n",
       "      <td>0</td>\n",
       "      <td>STON/O2. 3101282</td>\n",
       "      <td>7.9250</td>\n",
       "      <td>NaN</td>\n",
       "      <td>S</td>\n",
       "    </tr>\n",
       "    <tr>\n",
       "      <th>3</th>\n",
       "      <td>4</td>\n",
       "      <td>1</td>\n",
       "      <td>1</td>\n",
       "      <td>Futrelle, Mrs. Jacques Heath (Lily May Peel)</td>\n",
       "      <td>female</td>\n",
       "      <td>35.0</td>\n",
       "      <td>1</td>\n",
       "      <td>0</td>\n",
       "      <td>113803</td>\n",
       "      <td>53.1000</td>\n",
       "      <td>C123</td>\n",
       "      <td>S</td>\n",
       "    </tr>\n",
       "    <tr>\n",
       "      <th>4</th>\n",
       "      <td>5</td>\n",
       "      <td>0</td>\n",
       "      <td>3</td>\n",
       "      <td>Allen, Mr. William Henry</td>\n",
       "      <td>male</td>\n",
       "      <td>35.0</td>\n",
       "      <td>0</td>\n",
       "      <td>0</td>\n",
       "      <td>373450</td>\n",
       "      <td>8.0500</td>\n",
       "      <td>NaN</td>\n",
       "      <td>S</td>\n",
       "    </tr>\n",
       "  </tbody>\n",
       "</table>\n",
       "</div>"
      ],
      "text/plain": [
       "   PassengerId  Survived  Pclass  \\\n",
       "0            1         0       3   \n",
       "1            2         1       1   \n",
       "2            3         1       3   \n",
       "3            4         1       1   \n",
       "4            5         0       3   \n",
       "\n",
       "                                                Name     Sex   Age  SibSp  \\\n",
       "0                            Braund, Mr. Owen Harris    male  22.0      1   \n",
       "1  Cumings, Mrs. John Bradley (Florence Briggs Th...  female  38.0      1   \n",
       "2                             Heikkinen, Miss. Laina  female  26.0      0   \n",
       "3       Futrelle, Mrs. Jacques Heath (Lily May Peel)  female  35.0      1   \n",
       "4                           Allen, Mr. William Henry    male  35.0      0   \n",
       "\n",
       "   Parch            Ticket     Fare Cabin Embarked  \n",
       "0      0         A/5 21171   7.2500   NaN        S  \n",
       "1      0          PC 17599  71.2833   C85        C  \n",
       "2      0  STON/O2. 3101282   7.9250   NaN        S  \n",
       "3      0            113803  53.1000  C123        S  \n",
       "4      0            373450   8.0500   NaN        S  "
      ]
     },
     "execution_count": 2,
     "metadata": {},
     "output_type": "execute_result"
    }
   ],
   "source": [
    "train_data = pd.read_csv(\"/kaggle/input/titanic/train.csv\")\n",
    "print(train_data.columns)\n",
    "train_data.head()"
   ]
  },
  {
   "cell_type": "code",
   "execution_count": 3,
   "id": "hazardous-radiation",
   "metadata": {
    "execution": {
     "iopub.execute_input": "2021-06-14T11:40:56.534127Z",
     "iopub.status.busy": "2021-06-14T11:40:56.531051Z",
     "iopub.status.idle": "2021-06-14T11:40:56.552685Z",
     "shell.execute_reply": "2021-06-14T11:40:56.551936Z",
     "shell.execute_reply.started": "2021-06-14T11:18:10.583599Z"
    },
    "papermill": {
     "duration": 0.0522,
     "end_time": "2021-06-14T11:40:56.552860",
     "exception": false,
     "start_time": "2021-06-14T11:40:56.500660",
     "status": "completed"
    },
    "tags": []
   },
   "outputs": [
    {
     "name": "stdout",
     "output_type": "stream",
     "text": [
      "<class 'pandas.core.frame.DataFrame'>\n",
      "RangeIndex: 891 entries, 0 to 890\n",
      "Data columns (total 12 columns):\n",
      " #   Column       Non-Null Count  Dtype  \n",
      "---  ------       --------------  -----  \n",
      " 0   PassengerId  891 non-null    int64  \n",
      " 1   Survived     891 non-null    int64  \n",
      " 2   Pclass       891 non-null    int64  \n",
      " 3   Name         891 non-null    object \n",
      " 4   Sex          891 non-null    object \n",
      " 5   Age          714 non-null    float64\n",
      " 6   SibSp        891 non-null    int64  \n",
      " 7   Parch        891 non-null    int64  \n",
      " 8   Ticket       891 non-null    object \n",
      " 9   Fare         891 non-null    float64\n",
      " 10  Cabin        204 non-null    object \n",
      " 11  Embarked     889 non-null    object \n",
      "dtypes: float64(2), int64(5), object(5)\n",
      "memory usage: 83.7+ KB\n"
     ]
    }
   ],
   "source": [
    "train_data.info()"
   ]
  },
  {
   "cell_type": "code",
   "execution_count": 4,
   "id": "posted-wealth",
   "metadata": {
    "execution": {
     "iopub.execute_input": "2021-06-14T11:40:56.609300Z",
     "iopub.status.busy": "2021-06-14T11:40:56.608703Z",
     "iopub.status.idle": "2021-06-14T11:40:56.647130Z",
     "shell.execute_reply": "2021-06-14T11:40:56.646697Z",
     "shell.execute_reply.started": "2021-06-14T11:18:10.611384Z"
    },
    "papermill": {
     "duration": 0.063547,
     "end_time": "2021-06-14T11:40:56.647274",
     "exception": false,
     "start_time": "2021-06-14T11:40:56.583727",
     "status": "completed"
    },
    "tags": []
   },
   "outputs": [
    {
     "data": {
      "text/html": [
       "<div>\n",
       "<style scoped>\n",
       "    .dataframe tbody tr th:only-of-type {\n",
       "        vertical-align: middle;\n",
       "    }\n",
       "\n",
       "    .dataframe tbody tr th {\n",
       "        vertical-align: top;\n",
       "    }\n",
       "\n",
       "    .dataframe thead th {\n",
       "        text-align: right;\n",
       "    }\n",
       "</style>\n",
       "<table border=\"1\" class=\"dataframe\">\n",
       "  <thead>\n",
       "    <tr style=\"text-align: right;\">\n",
       "      <th></th>\n",
       "      <th>PassengerId</th>\n",
       "      <th>Survived</th>\n",
       "      <th>Pclass</th>\n",
       "      <th>Age</th>\n",
       "      <th>SibSp</th>\n",
       "      <th>Parch</th>\n",
       "      <th>Fare</th>\n",
       "    </tr>\n",
       "  </thead>\n",
       "  <tbody>\n",
       "    <tr>\n",
       "      <th>count</th>\n",
       "      <td>891.000000</td>\n",
       "      <td>891.000000</td>\n",
       "      <td>891.000000</td>\n",
       "      <td>714.000000</td>\n",
       "      <td>891.000000</td>\n",
       "      <td>891.000000</td>\n",
       "      <td>891.000000</td>\n",
       "    </tr>\n",
       "    <tr>\n",
       "      <th>mean</th>\n",
       "      <td>446.000000</td>\n",
       "      <td>0.383838</td>\n",
       "      <td>2.308642</td>\n",
       "      <td>29.699118</td>\n",
       "      <td>0.523008</td>\n",
       "      <td>0.381594</td>\n",
       "      <td>32.204208</td>\n",
       "    </tr>\n",
       "    <tr>\n",
       "      <th>std</th>\n",
       "      <td>257.353842</td>\n",
       "      <td>0.486592</td>\n",
       "      <td>0.836071</td>\n",
       "      <td>14.526497</td>\n",
       "      <td>1.102743</td>\n",
       "      <td>0.806057</td>\n",
       "      <td>49.693429</td>\n",
       "    </tr>\n",
       "    <tr>\n",
       "      <th>min</th>\n",
       "      <td>1.000000</td>\n",
       "      <td>0.000000</td>\n",
       "      <td>1.000000</td>\n",
       "      <td>0.420000</td>\n",
       "      <td>0.000000</td>\n",
       "      <td>0.000000</td>\n",
       "      <td>0.000000</td>\n",
       "    </tr>\n",
       "    <tr>\n",
       "      <th>25%</th>\n",
       "      <td>223.500000</td>\n",
       "      <td>0.000000</td>\n",
       "      <td>2.000000</td>\n",
       "      <td>20.125000</td>\n",
       "      <td>0.000000</td>\n",
       "      <td>0.000000</td>\n",
       "      <td>7.910400</td>\n",
       "    </tr>\n",
       "    <tr>\n",
       "      <th>50%</th>\n",
       "      <td>446.000000</td>\n",
       "      <td>0.000000</td>\n",
       "      <td>3.000000</td>\n",
       "      <td>28.000000</td>\n",
       "      <td>0.000000</td>\n",
       "      <td>0.000000</td>\n",
       "      <td>14.454200</td>\n",
       "    </tr>\n",
       "    <tr>\n",
       "      <th>75%</th>\n",
       "      <td>668.500000</td>\n",
       "      <td>1.000000</td>\n",
       "      <td>3.000000</td>\n",
       "      <td>38.000000</td>\n",
       "      <td>1.000000</td>\n",
       "      <td>0.000000</td>\n",
       "      <td>31.000000</td>\n",
       "    </tr>\n",
       "    <tr>\n",
       "      <th>max</th>\n",
       "      <td>891.000000</td>\n",
       "      <td>1.000000</td>\n",
       "      <td>3.000000</td>\n",
       "      <td>80.000000</td>\n",
       "      <td>8.000000</td>\n",
       "      <td>6.000000</td>\n",
       "      <td>512.329200</td>\n",
       "    </tr>\n",
       "  </tbody>\n",
       "</table>\n",
       "</div>"
      ],
      "text/plain": [
       "       PassengerId    Survived      Pclass         Age       SibSp  \\\n",
       "count   891.000000  891.000000  891.000000  714.000000  891.000000   \n",
       "mean    446.000000    0.383838    2.308642   29.699118    0.523008   \n",
       "std     257.353842    0.486592    0.836071   14.526497    1.102743   \n",
       "min       1.000000    0.000000    1.000000    0.420000    0.000000   \n",
       "25%     223.500000    0.000000    2.000000   20.125000    0.000000   \n",
       "50%     446.000000    0.000000    3.000000   28.000000    0.000000   \n",
       "75%     668.500000    1.000000    3.000000   38.000000    1.000000   \n",
       "max     891.000000    1.000000    3.000000   80.000000    8.000000   \n",
       "\n",
       "            Parch        Fare  \n",
       "count  891.000000  891.000000  \n",
       "mean     0.381594   32.204208  \n",
       "std      0.806057   49.693429  \n",
       "min      0.000000    0.000000  \n",
       "25%      0.000000    7.910400  \n",
       "50%      0.000000   14.454200  \n",
       "75%      0.000000   31.000000  \n",
       "max      6.000000  512.329200  "
      ]
     },
     "execution_count": 4,
     "metadata": {},
     "output_type": "execute_result"
    }
   ],
   "source": [
    "train_data.describe()"
   ]
  },
  {
   "cell_type": "code",
   "execution_count": 5,
   "id": "organizational-function",
   "metadata": {
    "execution": {
     "iopub.execute_input": "2021-06-14T11:40:56.696033Z",
     "iopub.status.busy": "2021-06-14T11:40:56.695353Z",
     "iopub.status.idle": "2021-06-14T11:40:56.716977Z",
     "shell.execute_reply": "2021-06-14T11:40:56.716367Z",
     "shell.execute_reply.started": "2021-06-14T11:18:10.663902Z"
    },
    "papermill": {
     "duration": 0.047623,
     "end_time": "2021-06-14T11:40:56.717125",
     "exception": false,
     "start_time": "2021-06-14T11:40:56.669502",
     "status": "completed"
    },
    "tags": []
   },
   "outputs": [
    {
     "data": {
      "text/html": [
       "<div>\n",
       "<style scoped>\n",
       "    .dataframe tbody tr th:only-of-type {\n",
       "        vertical-align: middle;\n",
       "    }\n",
       "\n",
       "    .dataframe tbody tr th {\n",
       "        vertical-align: top;\n",
       "    }\n",
       "\n",
       "    .dataframe thead th {\n",
       "        text-align: right;\n",
       "    }\n",
       "</style>\n",
       "<table border=\"1\" class=\"dataframe\">\n",
       "  <thead>\n",
       "    <tr style=\"text-align: right;\">\n",
       "      <th></th>\n",
       "      <th>PassengerId</th>\n",
       "      <th>Pclass</th>\n",
       "      <th>Name</th>\n",
       "      <th>Sex</th>\n",
       "      <th>Age</th>\n",
       "      <th>SibSp</th>\n",
       "      <th>Parch</th>\n",
       "      <th>Ticket</th>\n",
       "      <th>Fare</th>\n",
       "      <th>Cabin</th>\n",
       "      <th>Embarked</th>\n",
       "    </tr>\n",
       "  </thead>\n",
       "  <tbody>\n",
       "    <tr>\n",
       "      <th>0</th>\n",
       "      <td>892</td>\n",
       "      <td>3</td>\n",
       "      <td>Kelly, Mr. James</td>\n",
       "      <td>male</td>\n",
       "      <td>34.5</td>\n",
       "      <td>0</td>\n",
       "      <td>0</td>\n",
       "      <td>330911</td>\n",
       "      <td>7.8292</td>\n",
       "      <td>NaN</td>\n",
       "      <td>Q</td>\n",
       "    </tr>\n",
       "    <tr>\n",
       "      <th>1</th>\n",
       "      <td>893</td>\n",
       "      <td>3</td>\n",
       "      <td>Wilkes, Mrs. James (Ellen Needs)</td>\n",
       "      <td>female</td>\n",
       "      <td>47.0</td>\n",
       "      <td>1</td>\n",
       "      <td>0</td>\n",
       "      <td>363272</td>\n",
       "      <td>7.0000</td>\n",
       "      <td>NaN</td>\n",
       "      <td>S</td>\n",
       "    </tr>\n",
       "    <tr>\n",
       "      <th>2</th>\n",
       "      <td>894</td>\n",
       "      <td>2</td>\n",
       "      <td>Myles, Mr. Thomas Francis</td>\n",
       "      <td>male</td>\n",
       "      <td>62.0</td>\n",
       "      <td>0</td>\n",
       "      <td>0</td>\n",
       "      <td>240276</td>\n",
       "      <td>9.6875</td>\n",
       "      <td>NaN</td>\n",
       "      <td>Q</td>\n",
       "    </tr>\n",
       "    <tr>\n",
       "      <th>3</th>\n",
       "      <td>895</td>\n",
       "      <td>3</td>\n",
       "      <td>Wirz, Mr. Albert</td>\n",
       "      <td>male</td>\n",
       "      <td>27.0</td>\n",
       "      <td>0</td>\n",
       "      <td>0</td>\n",
       "      <td>315154</td>\n",
       "      <td>8.6625</td>\n",
       "      <td>NaN</td>\n",
       "      <td>S</td>\n",
       "    </tr>\n",
       "    <tr>\n",
       "      <th>4</th>\n",
       "      <td>896</td>\n",
       "      <td>3</td>\n",
       "      <td>Hirvonen, Mrs. Alexander (Helga E Lindqvist)</td>\n",
       "      <td>female</td>\n",
       "      <td>22.0</td>\n",
       "      <td>1</td>\n",
       "      <td>1</td>\n",
       "      <td>3101298</td>\n",
       "      <td>12.2875</td>\n",
       "      <td>NaN</td>\n",
       "      <td>S</td>\n",
       "    </tr>\n",
       "  </tbody>\n",
       "</table>\n",
       "</div>"
      ],
      "text/plain": [
       "   PassengerId  Pclass                                          Name     Sex  \\\n",
       "0          892       3                              Kelly, Mr. James    male   \n",
       "1          893       3              Wilkes, Mrs. James (Ellen Needs)  female   \n",
       "2          894       2                     Myles, Mr. Thomas Francis    male   \n",
       "3          895       3                              Wirz, Mr. Albert    male   \n",
       "4          896       3  Hirvonen, Mrs. Alexander (Helga E Lindqvist)  female   \n",
       "\n",
       "    Age  SibSp  Parch   Ticket     Fare Cabin Embarked  \n",
       "0  34.5      0      0   330911   7.8292   NaN        Q  \n",
       "1  47.0      1      0   363272   7.0000   NaN        S  \n",
       "2  62.0      0      0   240276   9.6875   NaN        Q  \n",
       "3  27.0      0      0   315154   8.6625   NaN        S  \n",
       "4  22.0      1      1  3101298  12.2875   NaN        S  "
      ]
     },
     "execution_count": 5,
     "metadata": {},
     "output_type": "execute_result"
    }
   ],
   "source": [
    "test_data = pd.read_csv(\"/kaggle/input/titanic/test.csv\")\n",
    "test_data.head()\n"
   ]
  },
  {
   "cell_type": "code",
   "execution_count": 6,
   "id": "statutory-geometry",
   "metadata": {
    "execution": {
     "iopub.execute_input": "2021-06-14T11:40:56.779203Z",
     "iopub.status.busy": "2021-06-14T11:40:56.778282Z",
     "iopub.status.idle": "2021-06-14T11:40:56.781861Z",
     "shell.execute_reply": "2021-06-14T11:40:56.782648Z",
     "shell.execute_reply.started": "2021-06-14T11:18:10.696165Z"
    },
    "papermill": {
     "duration": 0.042858,
     "end_time": "2021-06-14T11:40:56.782856",
     "exception": false,
     "start_time": "2021-06-14T11:40:56.739998",
     "status": "completed"
    },
    "tags": []
   },
   "outputs": [
    {
     "name": "stdout",
     "output_type": "stream",
     "text": [
      "<class 'pandas.core.frame.DataFrame'>\n",
      "RangeIndex: 418 entries, 0 to 417\n",
      "Data columns (total 11 columns):\n",
      " #   Column       Non-Null Count  Dtype  \n",
      "---  ------       --------------  -----  \n",
      " 0   PassengerId  418 non-null    int64  \n",
      " 1   Pclass       418 non-null    int64  \n",
      " 2   Name         418 non-null    object \n",
      " 3   Sex          418 non-null    object \n",
      " 4   Age          332 non-null    float64\n",
      " 5   SibSp        418 non-null    int64  \n",
      " 6   Parch        418 non-null    int64  \n",
      " 7   Ticket       418 non-null    object \n",
      " 8   Fare         417 non-null    float64\n",
      " 9   Cabin        91 non-null     object \n",
      " 10  Embarked     418 non-null    object \n",
      "dtypes: float64(2), int64(4), object(5)\n",
      "memory usage: 36.0+ KB\n"
     ]
    }
   ],
   "source": [
    "test_data.info()"
   ]
  },
  {
   "cell_type": "markdown",
   "id": "phantom-apparatus",
   "metadata": {
    "papermill": {
     "duration": 0.022776,
     "end_time": "2021-06-14T11:40:56.834518",
     "exception": false,
     "start_time": "2021-06-14T11:40:56.811742",
     "status": "completed"
    },
    "tags": []
   },
   "source": [
    "The target value we want to predict is the 'Survived' column. It is encoded with 0 if the passenger did not survive and 1 if the passenger survived. We examine the proportion of the two classes."
   ]
  },
  {
   "cell_type": "code",
   "execution_count": 7,
   "id": "veterinary-disability",
   "metadata": {
    "execution": {
     "iopub.execute_input": "2021-06-14T11:40:56.886266Z",
     "iopub.status.busy": "2021-06-14T11:40:56.885405Z",
     "iopub.status.idle": "2021-06-14T11:40:57.121186Z",
     "shell.execute_reply": "2021-06-14T11:40:57.120485Z",
     "shell.execute_reply.started": "2021-06-14T11:18:10.713054Z"
    },
    "papermill": {
     "duration": 0.263829,
     "end_time": "2021-06-14T11:40:57.121324",
     "exception": false,
     "start_time": "2021-06-14T11:40:56.857495",
     "status": "completed"
    },
    "tags": []
   },
   "outputs": [
    {
     "name": "stdout",
     "output_type": "stream",
     "text": [
      "0    549\n",
      "1    342\n",
      "Name: Survived, dtype: int64\n",
      "Graphic representation of train data : target survived\n"
     ]
    },
    {
     "data": {
      "text/plain": [
       "<seaborn.axisgrid.FacetGrid at 0x7f36a0d59c90>"
      ]
     },
     "execution_count": 7,
     "metadata": {},
     "output_type": "execute_result"
    },
    {
     "data": {
      "image/png": "[encoded data removed]",
      "text/plain": [
       "<Figure size 360x360 with 1 Axes>"
      ]
     },
     "metadata": {
      "needs_background": "light"
     },
     "output_type": "display_data"
    }
   ],
   "source": [
    "print(train_data.Survived.value_counts())\n",
    "print('Graphic representation of train data : target survived')\n",
    "sns.catplot(x='Survived', kind='count', data = train_data)"
   ]
  },
  {
   "cell_type": "markdown",
   "id": "remarkable-meditation",
   "metadata": {
    "papermill": {
     "duration": 0.023208,
     "end_time": "2021-06-14T11:40:57.168420",
     "exception": false,
     "start_time": "2021-06-14T11:40:57.145212",
     "status": "completed"
    },
    "tags": []
   },
   "source": [
    "Everyone knows the widespread popular belief : \"Women and children first\". \n",
    "We calculate the survival rate of men and women.\n"
   ]
  },
  {
   "cell_type": "code",
   "execution_count": 8,
   "id": "fifteen-trademark",
   "metadata": {
    "execution": {
     "iopub.execute_input": "2021-06-14T11:40:57.227165Z",
     "iopub.status.busy": "2021-06-14T11:40:57.226282Z",
     "iopub.status.idle": "2021-06-14T11:40:57.353731Z",
     "shell.execute_reply": "2021-06-14T11:40:57.354147Z",
     "shell.execute_reply.started": "2021-06-14T11:18:10.955550Z"
    },
    "papermill": {
     "duration": 0.162303,
     "end_time": "2021-06-14T11:40:57.354297",
     "exception": false,
     "start_time": "2021-06-14T11:40:57.191994",
     "status": "completed"
    },
    "tags": []
   },
   "outputs": [
    {
     "name": "stdout",
     "output_type": "stream",
     "text": [
      "male      577\n",
      "female    314\n",
      "Name: Sex, dtype: int64\n",
      "% of women who survived = 0.742038\n",
      "% of men who survived = 0.188908\n",
      "Sex     Survived\n",
      "female  1           233\n",
      "        0            81\n",
      "male    0           468\n",
      "        1           109\n",
      "Name: Survived, dtype: int64\n",
      "Graphic representation of train data : Sex influence on survival\n"
     ]
    },
    {
     "data": {
      "text/plain": [
       "<AxesSubplot:xlabel='Sex', ylabel='count'>"
      ]
     },
     "execution_count": 8,
     "metadata": {},
     "output_type": "execute_result"
    },
    {
     "data": {
      "image/png": "[encoded data removed]",
      "text/plain": [
       "<Figure size 432x288 with 1 Axes>"
      ]
     },
     "metadata": {
      "needs_background": "light"
     },
     "output_type": "display_data"
    }
   ],
   "source": [
    "print(train_data.Sex.value_counts())\n",
    "women = train_data.loc[train_data.Sex == 'female'][\"Survived\"]\n",
    "rate_women = sum(women)/len(women)\n",
    "print(\"% of women who survived = {:f}\".format(rate_women))\n",
    "men = train_data.loc[train_data.Sex == 'male'][\"Survived\"]\n",
    "rate_men = sum(men)/len(men)\n",
    "print(\"% of men who survived = {:f}\".format(rate_men))\n",
    "print(train_data.groupby('Sex').Survived.value_counts())\n",
    "print('Graphic representation of train data : Sex influence on survival')\n",
    "sns.countplot(x='Sex', hue='Survived', data=train_data)"
   ]
  },
  {
   "cell_type": "code",
   "execution_count": 9,
   "id": "addressed-firewall",
   "metadata": {
    "execution": {
     "iopub.execute_input": "2021-06-14T11:40:57.405519Z",
     "iopub.status.busy": "2021-06-14T11:40:57.405008Z",
     "iopub.status.idle": "2021-06-14T11:40:57.544151Z",
     "shell.execute_reply": "2021-06-14T11:40:57.544509Z",
     "shell.execute_reply.started": "2021-06-14T11:18:11.145596Z"
    },
    "papermill": {
     "duration": 0.166021,
     "end_time": "2021-06-14T11:40:57.544697",
     "exception": false,
     "start_time": "2021-06-14T11:40:57.378676",
     "status": "completed"
    },
    "tags": []
   },
   "outputs": [
    {
     "data": {
      "text/plain": [
       "<AxesSubplot:xlabel='Survived', ylabel='Age'>"
      ]
     },
     "execution_count": 9,
     "metadata": {},
     "output_type": "execute_result"
    },
    {
     "data": {
      "image/png": "[encoded data removed]",
      "text/plain": [
       "<Figure size 432x288 with 1 Axes>"
      ]
     },
     "metadata": {
      "needs_background": "light"
     },
     "output_type": "display_data"
    }
   ],
   "source": [
    "sns.barplot(y='Age', x='Survived', data=train_data)"
   ]
  },
  {
   "cell_type": "markdown",
   "id": "particular-composer",
   "metadata": {
    "papermill": {
     "duration": 0.024906,
     "end_time": "2021-06-14T11:40:57.595044",
     "exception": false,
     "start_time": "2021-06-14T11:40:57.570138",
     "status": "completed"
    },
    "tags": []
   },
   "source": [
    "From the Titanic train data we observe that the survival rate of women is higher than the one of men. The average age of passengers who survived is also lower.\n",
    "\n",
    "However a study performed by researchers at Uppsala University from several sinking datasets has shown that men had the more important survival rate   (see https://www.thelocal.se/20120412/40216/) ."
   ]
  },
  {
   "cell_type": "markdown",
   "id": "dangerous-assurance",
   "metadata": {
    "papermill": {
     "duration": 0.024898,
     "end_time": "2021-06-14T11:40:57.645232",
     "exception": false,
     "start_time": "2021-06-14T11:40:57.620334",
     "status": "completed"
    },
    "tags": []
   },
   "source": [
    "We now visualise the influence of the passengers class."
   ]
  },
  {
   "cell_type": "code",
   "execution_count": 10,
   "id": "bridal-missile",
   "metadata": {
    "execution": {
     "iopub.execute_input": "2021-06-14T11:40:57.698964Z",
     "iopub.status.busy": "2021-06-14T11:40:57.698409Z",
     "iopub.status.idle": "2021-06-14T11:40:57.836743Z",
     "shell.execute_reply": "2021-06-14T11:40:57.836202Z",
     "shell.execute_reply.started": "2021-06-14T11:18:11.353207Z"
    },
    "papermill": {
     "duration": 0.166526,
     "end_time": "2021-06-14T11:40:57.836870",
     "exception": false,
     "start_time": "2021-06-14T11:40:57.670344",
     "status": "completed"
    },
    "tags": []
   },
   "outputs": [
    {
     "name": "stdout",
     "output_type": "stream",
     "text": [
      "Pclass  Survived\n",
      "1       1           136\n",
      "        0            80\n",
      "2       0            97\n",
      "        1            87\n",
      "3       0           372\n",
      "        1           119\n",
      "Name: Survived, dtype: int64\n",
      "% of 1st class who survived: 0.629630\n",
      "% of 2nd class who survived: 0.472826\n",
      "% of 3rd class who survived: 0.242363\n",
      "Graphic representation of train data : Pclass influence on survival\n"
     ]
    },
    {
     "data": {
      "text/plain": [
       "<AxesSubplot:xlabel='Pclass', ylabel='count'>"
      ]
     },
     "execution_count": 10,
     "metadata": {},
     "output_type": "execute_result"
    },
    {
     "data": {
      "image/png": "[encoded data removed]",
      "text/plain": [
       "<Figure size 432x288 with 1 Axes>"
      ]
     },
     "metadata": {
      "needs_background": "light"
     },
     "output_type": "display_data"
    }
   ],
   "source": [
    "print(train_data.groupby('Pclass').Survived.value_counts())\n",
    "firstClass = train_data.loc[train_data.Pclass == 1][\"Survived\"]\n",
    "rate_firstClass = sum(firstClass)/len(firstClass)\n",
    "scdClass = train_data.loc[train_data.Pclass == 2][\"Survived\"]\n",
    "rate_scdClass = sum(scdClass)/len(scdClass)\n",
    "thdClass = train_data.loc[train_data.Pclass == 3][\"Survived\"]\n",
    "rate_thdClass = sum(thdClass)/len(thdClass)\n",
    "print(\"% of 1st class who survived: {:f}\\n% of 2nd class who survived: {:f}\\n% of 3rd class who survived: {:f}\".format(rate_firstClass,rate_scdClass,rate_thdClass))\n",
    "print('Graphic representation of train data : Pclass influence on survival')\n",
    "sns.countplot(x='Pclass', hue='Survived', data=train_data)"
   ]
  },
  {
   "cell_type": "code",
   "execution_count": 11,
   "id": "tribal-lawsuit",
   "metadata": {
    "execution": {
     "iopub.execute_input": "2021-06-14T11:40:57.897494Z",
     "iopub.status.busy": "2021-06-14T11:40:57.896555Z",
     "iopub.status.idle": "2021-06-14T11:40:58.066949Z",
     "shell.execute_reply": "2021-06-14T11:40:58.067416Z",
     "shell.execute_reply.started": "2021-06-14T11:18:11.551810Z"
    },
    "papermill": {
     "duration": 0.204278,
     "end_time": "2021-06-14T11:40:58.067599",
     "exception": false,
     "start_time": "2021-06-14T11:40:57.863321",
     "status": "completed"
    },
    "tags": []
   },
   "outputs": [
    {
     "name": "stdout",
     "output_type": "stream",
     "text": [
      "Graphic representation of test data : sex\n"
     ]
    },
    {
     "data": {
      "text/plain": [
       "<seaborn.axisgrid.FacetGrid at 0x7f369606b850>"
      ]
     },
     "execution_count": 11,
     "metadata": {},
     "output_type": "execute_result"
    },
    {
     "data": {
      "image/png": "[encoded data removed]",
      "text/plain": [
       "<Figure size 360x360 with 1 Axes>"
      ]
     },
     "metadata": {
      "needs_background": "light"
     },
     "output_type": "display_data"
    }
   ],
   "source": [
    "print('Graphic representation of test data : sex')\n",
    "sns.catplot(x='Sex', kind='count', data = train_data)"
   ]
  },
  {
   "cell_type": "markdown",
   "id": "sorted-smoke",
   "metadata": {
    "papermill": {
     "duration": 0.026906,
     "end_time": "2021-06-14T11:40:58.121516",
     "exception": false,
     "start_time": "2021-06-14T11:40:58.094610",
     "status": "completed"
    },
    "tags": []
   },
   "source": [
    "# 2. Machine learning model"
   ]
  },
  {
   "cell_type": "markdown",
   "id": "occasional-hanging",
   "metadata": {
    "papermill": {
     "duration": 0.02669,
     "end_time": "2021-06-14T11:40:58.176267",
     "exception": false,
     "start_time": "2021-06-14T11:40:58.149577",
     "status": "completed"
    },
    "tags": []
   },
   "source": [
    "We split our training dataset between target and data."
   ]
  },
  {
   "cell_type": "code",
   "execution_count": 12,
   "id": "iraqi-importance",
   "metadata": {
    "execution": {
     "iopub.execute_input": "2021-06-14T11:40:58.238457Z",
     "iopub.status.busy": "2021-06-14T11:40:58.237626Z",
     "iopub.status.idle": "2021-06-14T11:40:58.257414Z",
     "shell.execute_reply": "2021-06-14T11:40:58.256674Z",
     "shell.execute_reply.started": "2021-06-14T11:18:11.770204Z"
    },
    "papermill": {
     "duration": 0.054176,
     "end_time": "2021-06-14T11:40:58.257613",
     "exception": false,
     "start_time": "2021-06-14T11:40:58.203437",
     "status": "completed"
    },
    "tags": []
   },
   "outputs": [
    {
     "data": {
      "text/html": [
       "<div>\n",
       "<style scoped>\n",
       "    .dataframe tbody tr th:only-of-type {\n",
       "        vertical-align: middle;\n",
       "    }\n",
       "\n",
       "    .dataframe tbody tr th {\n",
       "        vertical-align: top;\n",
       "    }\n",
       "\n",
       "    .dataframe thead th {\n",
       "        text-align: right;\n",
       "    }\n",
       "</style>\n",
       "<table border=\"1\" class=\"dataframe\">\n",
       "  <thead>\n",
       "    <tr style=\"text-align: right;\">\n",
       "      <th></th>\n",
       "      <th>Pclass</th>\n",
       "      <th>Name</th>\n",
       "      <th>Sex</th>\n",
       "      <th>Age</th>\n",
       "      <th>SibSp</th>\n",
       "      <th>Parch</th>\n",
       "      <th>Ticket</th>\n",
       "      <th>Fare</th>\n",
       "      <th>Cabin</th>\n",
       "      <th>Embarked</th>\n",
       "    </tr>\n",
       "  </thead>\n",
       "  <tbody>\n",
       "    <tr>\n",
       "      <th>0</th>\n",
       "      <td>3</td>\n",
       "      <td>Braund, Mr. Owen Harris</td>\n",
       "      <td>male</td>\n",
       "      <td>22.0</td>\n",
       "      <td>1</td>\n",
       "      <td>0</td>\n",
       "      <td>A/5 21171</td>\n",
       "      <td>7.2500</td>\n",
       "      <td>NaN</td>\n",
       "      <td>S</td>\n",
       "    </tr>\n",
       "    <tr>\n",
       "      <th>1</th>\n",
       "      <td>1</td>\n",
       "      <td>Cumings, Mrs. John Bradley (Florence Briggs Th...</td>\n",
       "      <td>female</td>\n",
       "      <td>38.0</td>\n",
       "      <td>1</td>\n",
       "      <td>0</td>\n",
       "      <td>PC 17599</td>\n",
       "      <td>71.2833</td>\n",
       "      <td>C85</td>\n",
       "      <td>C</td>\n",
       "    </tr>\n",
       "    <tr>\n",
       "      <th>2</th>\n",
       "      <td>3</td>\n",
       "      <td>Heikkinen, Miss. Laina</td>\n",
       "      <td>female</td>\n",
       "      <td>26.0</td>\n",
       "      <td>0</td>\n",
       "      <td>0</td>\n",
       "      <td>STON/O2. 3101282</td>\n",
       "      <td>7.9250</td>\n",
       "      <td>NaN</td>\n",
       "      <td>S</td>\n",
       "    </tr>\n",
       "    <tr>\n",
       "      <th>3</th>\n",
       "      <td>1</td>\n",
       "      <td>Futrelle, Mrs. Jacques Heath (Lily May Peel)</td>\n",
       "      <td>female</td>\n",
       "      <td>35.0</td>\n",
       "      <td>1</td>\n",
       "      <td>0</td>\n",
       "      <td>113803</td>\n",
       "      <td>53.1000</td>\n",
       "      <td>C123</td>\n",
       "      <td>S</td>\n",
       "    </tr>\n",
       "    <tr>\n",
       "      <th>4</th>\n",
       "      <td>3</td>\n",
       "      <td>Allen, Mr. William Henry</td>\n",
       "      <td>male</td>\n",
       "      <td>35.0</td>\n",
       "      <td>0</td>\n",
       "      <td>0</td>\n",
       "      <td>373450</td>\n",
       "      <td>8.0500</td>\n",
       "      <td>NaN</td>\n",
       "      <td>S</td>\n",
       "    </tr>\n",
       "  </tbody>\n",
       "</table>\n",
       "</div>"
      ],
      "text/plain": [
       "   Pclass                                               Name     Sex   Age  \\\n",
       "0       3                            Braund, Mr. Owen Harris    male  22.0   \n",
       "1       1  Cumings, Mrs. John Bradley (Florence Briggs Th...  female  38.0   \n",
       "2       3                             Heikkinen, Miss. Laina  female  26.0   \n",
       "3       1       Futrelle, Mrs. Jacques Heath (Lily May Peel)  female  35.0   \n",
       "4       3                           Allen, Mr. William Henry    male  35.0   \n",
       "\n",
       "   SibSp  Parch            Ticket     Fare Cabin Embarked  \n",
       "0      1      0         A/5 21171   7.2500   NaN        S  \n",
       "1      1      0          PC 17599  71.2833   C85        C  \n",
       "2      0      0  STON/O2. 3101282   7.9250   NaN        S  \n",
       "3      1      0            113803  53.1000  C123        S  \n",
       "4      0      0            373450   8.0500   NaN        S  "
      ]
     },
     "execution_count": 12,
     "metadata": {},
     "output_type": "execute_result"
    }
   ],
   "source": [
    "y=train_data.Survived\n",
    "X=train_data.drop([\"PassengerId\",\"Survived\"], axis=1)\n",
    "X.head()"
   ]
  },
  {
   "cell_type": "markdown",
   "id": "incomplete-alcohol",
   "metadata": {
    "papermill": {
     "duration": 0.033193,
     "end_time": "2021-06-14T11:40:58.325835",
     "exception": false,
     "start_time": "2021-06-14T11:40:58.292642",
     "status": "completed"
    },
    "tags": []
   },
   "source": [
    "We examine which columns have missing values"
   ]
  },
  {
   "cell_type": "code",
   "execution_count": 13,
   "id": "initial-closer",
   "metadata": {
    "execution": {
     "iopub.execute_input": "2021-06-14T11:40:58.388096Z",
     "iopub.status.busy": "2021-06-14T11:40:58.387503Z",
     "iopub.status.idle": "2021-06-14T11:40:58.390392Z",
     "shell.execute_reply": "2021-06-14T11:40:58.390811Z",
     "shell.execute_reply.started": "2021-06-14T11:18:11.793479Z"
    },
    "papermill": {
     "duration": 0.037765,
     "end_time": "2021-06-14T11:40:58.390961",
     "exception": false,
     "start_time": "2021-06-14T11:40:58.353196",
     "status": "completed"
    },
    "tags": []
   },
   "outputs": [
    {
     "name": "stdout",
     "output_type": "stream",
     "text": [
      "['Age', 'Cabin', 'Embarked']\n"
     ]
    }
   ],
   "source": [
    "cols_with_missing = [col for col in X.columns if X[col].isnull().any()]\n",
    "print(cols_with_missing)\n"
   ]
  },
  {
   "cell_type": "markdown",
   "id": "trying-characterization",
   "metadata": {
    "papermill": {
     "duration": 0.027218,
     "end_time": "2021-06-14T11:40:58.446105",
     "exception": false,
     "start_time": "2021-06-14T11:40:58.418887",
     "status": "completed"
    },
    "tags": []
   },
   "source": [
    "We split the dataset in train and validation data."
   ]
  },
  {
   "cell_type": "code",
   "execution_count": 14,
   "id": "behavioral-balance",
   "metadata": {
    "execution": {
     "iopub.execute_input": "2021-06-14T11:40:58.503821Z",
     "iopub.status.busy": "2021-06-14T11:40:58.503249Z",
     "iopub.status.idle": "2021-06-14T11:40:58.688338Z",
     "shell.execute_reply": "2021-06-14T11:40:58.687850Z",
     "shell.execute_reply.started": "2021-06-14T11:18:11.811607Z"
    },
    "papermill": {
     "duration": 0.214942,
     "end_time": "2021-06-14T11:40:58.688466",
     "exception": false,
     "start_time": "2021-06-14T11:40:58.473524",
     "status": "completed"
    },
    "tags": []
   },
   "outputs": [],
   "source": [
    "from sklearn.model_selection import train_test_split\n",
    "X_train, X_valid, y_train, y_valid = train_test_split(X, y, train_size=0.8, test_size=0.2,\n",
    "                                                      random_state=0)"
   ]
  },
  {
   "cell_type": "markdown",
   "id": "ecological-vegetarian",
   "metadata": {
    "papermill": {
     "duration": 0.027396,
     "end_time": "2021-06-14T11:40:58.743799",
     "exception": false,
     "start_time": "2021-06-14T11:40:58.716403",
     "status": "completed"
    },
    "tags": []
   },
   "source": [
    "We evaluate the cardinality of categorical columns."
   ]
  },
  {
   "cell_type": "code",
   "execution_count": 15,
   "id": "incoming-influence",
   "metadata": {
    "execution": {
     "iopub.execute_input": "2021-06-14T11:40:58.806386Z",
     "iopub.status.busy": "2021-06-14T11:40:58.805819Z",
     "iopub.status.idle": "2021-06-14T11:40:58.810262Z",
     "shell.execute_reply": "2021-06-14T11:40:58.810686Z",
     "shell.execute_reply.started": "2021-06-14T11:18:12.070656Z"
    },
    "papermill": {
     "duration": 0.038875,
     "end_time": "2021-06-14T11:40:58.810837",
     "exception": false,
     "start_time": "2021-06-14T11:40:58.771962",
     "status": "completed"
    },
    "tags": []
   },
   "outputs": [
    {
     "data": {
      "text/plain": [
       "[('Sex', 2), ('Embarked', 3), ('Cabin', 127), ('Ticket', 569), ('Name', 712)]"
      ]
     },
     "execution_count": 15,
     "metadata": {},
     "output_type": "execute_result"
    }
   ],
   "source": [
    "# All categorical columns\n",
    "object_cols = [col for col in X_train.columns if X_train[col].dtype == \"object\"]\n",
    "# Get number of unique entries in each column with categorical data\n",
    "object_nunique = list(map(lambda col: X_train[col].nunique(), object_cols))\n",
    "d = dict(zip(object_cols, object_nunique))\n",
    "\n",
    "# Print number of unique entries by column, in ascending order\n",
    "sorted(d.items(), key=lambda x: x[1])"
   ]
  },
  {
   "cell_type": "code",
   "execution_count": 16,
   "id": "original-senator",
   "metadata": {
    "execution": {
     "iopub.execute_input": "2021-06-14T11:40:58.868837Z",
     "iopub.status.busy": "2021-06-14T11:40:58.868294Z",
     "iopub.status.idle": "2021-06-14T11:40:58.879547Z",
     "shell.execute_reply": "2021-06-14T11:40:58.879072Z",
     "shell.execute_reply.started": "2021-06-14T11:18:12.085444Z"
    },
    "papermill": {
     "duration": 0.041182,
     "end_time": "2021-06-14T11:40:58.879679",
     "exception": false,
     "start_time": "2021-06-14T11:40:58.838497",
     "status": "completed"
    },
    "tags": []
   },
   "outputs": [
    {
     "name": "stdout",
     "output_type": "stream",
     "text": [
      "Categorical columns that will be one-hot encoded: ['Sex', 'Embarked']\n",
      "\n",
      "Categorical columns that will be dropped from the dataset: ['Name', 'Ticket', 'Cabin']\n"
     ]
    }
   ],
   "source": [
    "# Columns that will be one-hot encoded\n",
    "low_cardinality_cols = [col for col in object_cols if X_train[col].nunique() < 10]\n",
    "\n",
    "# Columns that will be dropped from the dataset\n",
    "high_cardinality_cols = list(set(object_cols)-set(low_cardinality_cols))\n",
    "\n",
    "print('Categorical columns that will be one-hot encoded:', low_cardinality_cols)\n",
    "print('\\nCategorical columns that will be dropped from the dataset:', high_cardinality_cols)\n",
    "# Select numerical columns\n",
    "numerical_cols = [col for col in X_train.columns if X_train[col].dtype in ['int64', 'float64']]\n",
    "\n",
    "# Keep selected columns only\n",
    "my_cols = low_cardinality_cols + numerical_cols\n",
    "X_train_pipe = X_train[my_cols].copy()\n",
    "X_valid_pipe = X_valid[my_cols].copy()"
   ]
  },
  {
   "cell_type": "markdown",
   "id": "finite-accent",
   "metadata": {
    "papermill": {
     "duration": 0.027738,
     "end_time": "2021-06-14T11:40:58.935947",
     "exception": false,
     "start_time": "2021-06-14T11:40:58.908209",
     "status": "completed"
    },
    "tags": []
   },
   "source": [
    "# Preprocessing steps"
   ]
  },
  {
   "cell_type": "code",
   "execution_count": 17,
   "id": "absent-alliance",
   "metadata": {
    "execution": {
     "iopub.execute_input": "2021-06-14T11:40:58.995577Z",
     "iopub.status.busy": "2021-06-14T11:40:58.994924Z",
     "iopub.status.idle": "2021-06-14T11:40:59.262925Z",
     "shell.execute_reply": "2021-06-14T11:40:59.262397Z",
     "shell.execute_reply.started": "2021-06-14T11:37:24.978536Z"
    },
    "papermill": {
     "duration": 0.298846,
     "end_time": "2021-06-14T11:40:59.263124",
     "exception": false,
     "start_time": "2021-06-14T11:40:58.964278",
     "status": "completed"
    },
    "tags": []
   },
   "outputs": [],
   "source": [
    "from sklearn.compose import ColumnTransformer\n",
    "from sklearn.pipeline import Pipeline\n",
    "from sklearn.impute import SimpleImputer\n",
    "from sklearn.preprocessing import OneHotEncoder\n",
    "\n",
    "# Preprocessing for numerical data\n",
    "numerical_transformer = SimpleImputer(strategy='mean')\n",
    "# Preprocessing for categorical data\n",
    "categorical_transformer = Pipeline(steps=[\n",
    "    ('imputer', SimpleImputer(strategy='most_frequent')),\n",
    "    ('onehot', OneHotEncoder(handle_unknown='ignore'))\n",
    "])\n",
    "# Bundle preprocessing for numerical and categorical data\n",
    "preprocessor = ColumnTransformer(\n",
    "    transformers=[\n",
    "        ('num', numerical_transformer, numerical_cols),\n",
    "        ('cat', categorical_transformer, low_cardinality_cols)\n",
    "    ])"
   ]
  },
  {
   "cell_type": "markdown",
   "id": "incredible-former",
   "metadata": {
    "papermill": {
     "duration": 0.028033,
     "end_time": "2021-06-14T11:40:59.319705",
     "exception": false,
     "start_time": "2021-06-14T11:40:59.291672",
     "status": "completed"
    },
    "tags": []
   },
   "source": [
    "# Machine learning model"
   ]
  },
  {
   "cell_type": "code",
   "execution_count": 18,
   "id": "elder-detector",
   "metadata": {
    "execution": {
     "iopub.execute_input": "2021-06-14T11:40:59.380357Z",
     "iopub.status.busy": "2021-06-14T11:40:59.379720Z",
     "iopub.status.idle": "2021-06-14T11:40:59.439952Z",
     "shell.execute_reply": "2021-06-14T11:40:59.440349Z",
     "shell.execute_reply.started": "2021-06-14T11:37:54.347175Z"
    },
    "papermill": {
     "duration": 0.092565,
     "end_time": "2021-06-14T11:40:59.440511",
     "exception": false,
     "start_time": "2021-06-14T11:40:59.347946",
     "status": "completed"
    },
    "tags": []
   },
   "outputs": [],
   "source": [
    "from sklearn.ensemble import RandomForestClassifier\n",
    "\n",
    "model = RandomForestClassifier(n_estimators=100, max_depth=4, random_state=0)\n",
    "\n"
   ]
  },
  {
   "cell_type": "markdown",
   "id": "geographic-bahamas",
   "metadata": {
    "papermill": {
     "duration": 0.028255,
     "end_time": "2021-06-14T11:40:59.497577",
     "exception": false,
     "start_time": "2021-06-14T11:40:59.469322",
     "status": "completed"
    },
    "tags": []
   },
   "source": [
    "# Pipeline definition and evaluation"
   ]
  },
  {
   "cell_type": "code",
   "execution_count": 19,
   "id": "animated-juice",
   "metadata": {
    "execution": {
     "iopub.execute_input": "2021-06-14T11:40:59.557578Z",
     "iopub.status.busy": "2021-06-14T11:40:59.556727Z",
     "iopub.status.idle": "2021-06-14T11:40:59.748844Z",
     "shell.execute_reply": "2021-06-14T11:40:59.749278Z",
     "shell.execute_reply.started": "2021-06-14T11:38:04.168297Z"
    },
    "papermill": {
     "duration": 0.223544,
     "end_time": "2021-06-14T11:40:59.749444",
     "exception": false,
     "start_time": "2021-06-14T11:40:59.525900",
     "status": "completed"
    },
    "tags": []
   },
   "outputs": [],
   "source": [
    "# Bundle preprocessing and modeling code in a pipeline\n",
    "my_pipeline = Pipeline(steps=[('preprocessor', preprocessor),\n",
    "                              ('model', model)\n",
    "                             ])\n",
    "# Preprocessing of training data, fit model \n",
    "my_pipeline.fit(X_train_pipe, y_train)\n",
    "\n",
    "\n",
    "train_preds = my_pipeline.predict(X_train_pipe)\n",
    "# Preprocessing of validation data, get predictions\n",
    "valid_preds = my_pipeline.predict(X_valid_pipe)"
   ]
  },
  {
   "cell_type": "code",
   "execution_count": 20,
   "id": "combined-hunger",
   "metadata": {
    "execution": {
     "iopub.execute_input": "2021-06-14T11:40:59.810385Z",
     "iopub.status.busy": "2021-06-14T11:40:59.809580Z",
     "iopub.status.idle": "2021-06-14T11:40:59.850662Z",
     "shell.execute_reply": "2021-06-14T11:40:59.851047Z",
     "shell.execute_reply.started": "2021-06-14T11:37:34.608116Z"
    },
    "papermill": {
     "duration": 0.072568,
     "end_time": "2021-06-14T11:40:59.851204",
     "exception": false,
     "start_time": "2021-06-14T11:40:59.778636",
     "status": "completed"
    },
    "tags": []
   },
   "outputs": [
    {
     "data": {
      "text/html": [
       "<style>div.sk-top-container {color: black;background-color: white;}div.sk-toggleable {background-color: white;}label.sk-toggleable__label {cursor: pointer;display: block;width: 100%;margin-bottom: 0;padding: 0.2em 0.3em;box-sizing: border-box;text-align: center;}div.sk-toggleable__content {max-height: 0;max-width: 0;overflow: hidden;text-align: left;background-color: #f0f8ff;}div.sk-toggleable__content pre {margin: 0.2em;color: black;border-radius: 0.25em;background-color: #f0f8ff;}input.sk-toggleable__control:checked~div.sk-toggleable__content {max-height: 200px;max-width: 100%;overflow: auto;}div.sk-estimator input.sk-toggleable__control:checked~label.sk-toggleable__label {background-color: #d4ebff;}div.sk-label input.sk-toggleable__control:checked~label.sk-toggleable__label {background-color: #d4ebff;}input.sk-hidden--visually {border: 0;clip: rect(1px 1px 1px 1px);clip: rect(1px, 1px, 1px, 1px);height: 1px;margin: -1px;overflow: hidden;padding: 0;position: absolute;width: 1px;}div.sk-estimator {font-family: monospace;background-color: #f0f8ff;margin: 0.25em 0.25em;border: 1px dotted black;border-radius: 0.25em;box-sizing: border-box;}div.sk-estimator:hover {background-color: #d4ebff;}div.sk-parallel-item::after {content: \"\";width: 100%;border-bottom: 1px solid gray;flex-grow: 1;}div.sk-label:hover label.sk-toggleable__label {background-color: #d4ebff;}div.sk-serial::before {content: \"\";position: absolute;border-left: 1px solid gray;box-sizing: border-box;top: 2em;bottom: 0;left: 50%;}div.sk-serial {display: flex;flex-direction: column;align-items: center;background-color: white;}div.sk-item {z-index: 1;}div.sk-parallel {display: flex;align-items: stretch;justify-content: center;background-color: white;}div.sk-parallel-item {display: flex;flex-direction: column;position: relative;background-color: white;}div.sk-parallel-item:first-child::after {align-self: flex-end;width: 50%;}div.sk-parallel-item:last-child::after {align-self: flex-start;width: 50%;}div.sk-parallel-item:only-child::after {width: 0;}div.sk-dashed-wrapped {border: 1px dashed gray;margin: 0.2em;box-sizing: border-box;padding-bottom: 0.1em;background-color: white;position: relative;}div.sk-label label {font-family: monospace;font-weight: bold;background-color: white;display: inline-block;line-height: 1.2em;}div.sk-label-container {position: relative;z-index: 2;text-align: center;}div.sk-container {display: inline-block;position: relative;}</style><div class=\"sk-top-container\"><div class=\"sk-container\"><div class=\"sk-item sk-dashed-wrapped\"><div class=\"sk-label-container\"><div class=\"sk-label sk-toggleable\"><input class=\"sk-toggleable__control sk-hidden--visually\" id=\"e7682e62-ed1a-4053-946e-4e9795e78f16\" type=\"checkbox\" ><label class=\"sk-toggleable__label\" for=\"e7682e62-ed1a-4053-946e-4e9795e78f16\">Pipeline</label><div class=\"sk-toggleable__content\"><pre>Pipeline(steps=[('preprocessor',\n",
       "                 ColumnTransformer(transformers=[('num', SimpleImputer(),\n",
       "                                                  ['Pclass', 'Age', 'SibSp',\n",
       "                                                   'Parch', 'Fare']),\n",
       "                                                 ('cat',\n",
       "                                                  Pipeline(steps=[('imputer',\n",
       "                                                                   SimpleImputer(strategy='most_frequent')),\n",
       "                                                                  ('onehot',\n",
       "                                                                   OneHotEncoder(handle_unknown='ignore'))]),\n",
       "                                                  ['Sex', 'Embarked'])])),\n",
       "                ('model', RandomForestClassifier(max_depth=4, random_state=0))])</pre></div></div></div><div class=\"sk-serial\"><div class=\"sk-item sk-dashed-wrapped\"><div class=\"sk-label-container\"><div class=\"sk-label sk-toggleable\"><input class=\"sk-toggleable__control sk-hidden--visually\" id=\"fed5c9e5-201d-4ef0-bdf5-3ce8b9b41962\" type=\"checkbox\" ><label class=\"sk-toggleable__label\" for=\"fed5c9e5-201d-4ef0-bdf5-3ce8b9b41962\">preprocessor: ColumnTransformer</label><div class=\"sk-toggleable__content\"><pre>ColumnTransformer(transformers=[('num', SimpleImputer(),\n",
       "                                 ['Pclass', 'Age', 'SibSp', 'Parch', 'Fare']),\n",
       "                                ('cat',\n",
       "                                 Pipeline(steps=[('imputer',\n",
       "                                                  SimpleImputer(strategy='most_frequent')),\n",
       "                                                 ('onehot',\n",
       "                                                  OneHotEncoder(handle_unknown='ignore'))]),\n",
       "                                 ['Sex', 'Embarked'])])</pre></div></div></div><div class=\"sk-parallel\"><div class=\"sk-parallel-item\"><div class=\"sk-item\"><div class=\"sk-label-container\"><div class=\"sk-label sk-toggleable\"><input class=\"sk-toggleable__control sk-hidden--visually\" id=\"3a104fa4-2c7f-4b1d-b697-5953f46a2328\" type=\"checkbox\" ><label class=\"sk-toggleable__label\" for=\"3a104fa4-2c7f-4b1d-b697-5953f46a2328\">num</label><div class=\"sk-toggleable__content\"><pre>['Pclass', 'Age', 'SibSp', 'Parch', 'Fare']</pre></div></div></div><div class=\"sk-serial\"><div class=\"sk-item\"><div class=\"sk-estimator sk-toggleable\"><input class=\"sk-toggleable__control sk-hidden--visually\" id=\"ebc55eb9-054e-46ab-85ac-95da60d4362f\" type=\"checkbox\" ><label class=\"sk-toggleable__label\" for=\"ebc55eb9-054e-46ab-85ac-95da60d4362f\">SimpleImputer</label><div class=\"sk-toggleable__content\"><pre>SimpleImputer()</pre></div></div></div></div></div></div><div class=\"sk-parallel-item\"><div class=\"sk-item\"><div class=\"sk-label-container\"><div class=\"sk-label sk-toggleable\"><input class=\"sk-toggleable__control sk-hidden--visually\" id=\"b13885ed-a43d-4bdc-94ee-86f06f9d6577\" type=\"checkbox\" ><label class=\"sk-toggleable__label\" for=\"b13885ed-a43d-4bdc-94ee-86f06f9d6577\">cat</label><div class=\"sk-toggleable__content\"><pre>['Sex', 'Embarked']</pre></div></div></div><div class=\"sk-serial\"><div class=\"sk-item\"><div class=\"sk-serial\"><div class=\"sk-item\"><div class=\"sk-estimator sk-toggleable\"><input class=\"sk-toggleable__control sk-hidden--visually\" id=\"3a4367c8-3bb8-4436-8285-1c17cb9b7b52\" type=\"checkbox\" ><label class=\"sk-toggleable__label\" for=\"3a4367c8-3bb8-4436-8285-1c17cb9b7b52\">SimpleImputer</label><div class=\"sk-toggleable__content\"><pre>SimpleImputer(strategy='most_frequent')</pre></div></div></div><div class=\"sk-item\"><div class=\"sk-estimator sk-toggleable\"><input class=\"sk-toggleable__control sk-hidden--visually\" id=\"33c2d70d-b7b8-49de-9826-20b54cdb3bdc\" type=\"checkbox\" ><label class=\"sk-toggleable__label\" for=\"33c2d70d-b7b8-49de-9826-20b54cdb3bdc\">OneHotEncoder</label><div class=\"sk-toggleable__content\"><pre>OneHotEncoder(handle_unknown='ignore')</pre></div></div></div></div></div></div></div></div></div></div><div class=\"sk-item\"><div class=\"sk-estimator sk-toggleable\"><input class=\"sk-toggleable__control sk-hidden--visually\" id=\"35c5a7ed-e82a-4eac-a358-c0bb7ff7dda1\" type=\"checkbox\" ><label class=\"sk-toggleable__label\" for=\"35c5a7ed-e82a-4eac-a358-c0bb7ff7dda1\">RandomForestClassifier</label><div class=\"sk-toggleable__content\"><pre>RandomForestClassifier(max_depth=4, random_state=0)</pre></div></div></div></div></div></div></div>"
      ],
      "text/plain": [
       "Pipeline(steps=[('preprocessor',\n",
       "                 ColumnTransformer(transformers=[('num', SimpleImputer(),\n",
       "                                                  ['Pclass', 'Age', 'SibSp',\n",
       "                                                   'Parch', 'Fare']),\n",
       "                                                 ('cat',\n",
       "                                                  Pipeline(steps=[('imputer',\n",
       "                                                                   SimpleImputer(strategy='most_frequent')),\n",
       "                                                                  ('onehot',\n",
       "                                                                   OneHotEncoder(handle_unknown='ignore'))]),\n",
       "                                                  ['Sex', 'Embarked'])])),\n",
       "                ('model', RandomForestClassifier(max_depth=4, random_state=0))])"
      ]
     },
     "execution_count": 20,
     "metadata": {},
     "output_type": "execute_result"
    }
   ],
   "source": [
    "from sklearn import set_config\n",
    "set_config(display='diagram')\n",
    "my_pipeline"
   ]
  },
  {
   "cell_type": "markdown",
   "id": "otherwise-technician",
   "metadata": {
    "papermill": {
     "duration": 0.028925,
     "end_time": "2021-06-14T11:40:59.909578",
     "exception": false,
     "start_time": "2021-06-14T11:40:59.880653",
     "status": "completed"
    },
    "tags": []
   },
   "source": [
    "Evaluation of the accuracy score"
   ]
  },
  {
   "cell_type": "code",
   "execution_count": 21,
   "id": "current-cloud",
   "metadata": {
    "execution": {
     "iopub.execute_input": "2021-06-14T11:40:59.973279Z",
     "iopub.status.busy": "2021-06-14T11:40:59.972326Z",
     "iopub.status.idle": "2021-06-14T11:40:59.977190Z",
     "shell.execute_reply": "2021-06-14T11:40:59.977568Z",
     "shell.execute_reply.started": "2021-06-14T11:38:06.797155Z"
    },
    "papermill": {
     "duration": 0.038491,
     "end_time": "2021-06-14T11:40:59.977727",
     "exception": false,
     "start_time": "2021-06-14T11:40:59.939236",
     "status": "completed"
    },
    "tags": []
   },
   "outputs": [
    {
     "name": "stdout",
     "output_type": "stream",
     "text": [
      "train score =  0.8300561797752809\n",
      "test score =  0.8212290502793296\n"
     ]
    }
   ],
   "source": [
    "from sklearn.metrics import accuracy_score\n",
    "print(\"train score = \",accuracy_score(y_train, train_preds))\n",
    "print(\"test score = \",accuracy_score(y_valid, valid_preds))"
   ]
  },
  {
   "cell_type": "markdown",
   "id": "welsh-spyware",
   "metadata": {
    "papermill": {
     "duration": 0.028291,
     "end_time": "2021-06-14T11:41:00.034974",
     "exception": false,
     "start_time": "2021-06-14T11:41:00.006683",
     "status": "completed"
    },
    "tags": []
   },
   "source": [
    "# Grid search"
   ]
  },
  {
   "cell_type": "code",
   "execution_count": 22,
   "id": "prescribed-reporter",
   "metadata": {
    "execution": {
     "iopub.execute_input": "2021-06-14T11:41:00.101930Z",
     "iopub.status.busy": "2021-06-14T11:41:00.101355Z",
     "iopub.status.idle": "2021-06-14T11:41:35.500122Z",
     "shell.execute_reply": "2021-06-14T11:41:35.500531Z",
     "shell.execute_reply.started": "2021-06-14T11:39:04.432129Z"
    },
    "papermill": {
     "duration": 35.435666,
     "end_time": "2021-06-14T11:41:35.500709",
     "exception": false,
     "start_time": "2021-06-14T11:41:00.065043",
     "status": "completed"
    },
    "tags": []
   },
   "outputs": [
    {
     "data": {
      "text/html": [
       "<style>div.sk-top-container {color: black;background-color: white;}div.sk-toggleable {background-color: white;}label.sk-toggleable__label {cursor: pointer;display: block;width: 100%;margin-bottom: 0;padding: 0.2em 0.3em;box-sizing: border-box;text-align: center;}div.sk-toggleable__content {max-height: 0;max-width: 0;overflow: hidden;text-align: left;background-color: #f0f8ff;}div.sk-toggleable__content pre {margin: 0.2em;color: black;border-radius: 0.25em;background-color: #f0f8ff;}input.sk-toggleable__control:checked~div.sk-toggleable__content {max-height: 200px;max-width: 100%;overflow: auto;}div.sk-estimator input.sk-toggleable__control:checked~label.sk-toggleable__label {background-color: #d4ebff;}div.sk-label input.sk-toggleable__control:checked~label.sk-toggleable__label {background-color: #d4ebff;}input.sk-hidden--visually {border: 0;clip: rect(1px 1px 1px 1px);clip: rect(1px, 1px, 1px, 1px);height: 1px;margin: -1px;overflow: hidden;padding: 0;position: absolute;width: 1px;}div.sk-estimator {font-family: monospace;background-color: #f0f8ff;margin: 0.25em 0.25em;border: 1px dotted black;border-radius: 0.25em;box-sizing: border-box;}div.sk-estimator:hover {background-color: #d4ebff;}div.sk-parallel-item::after {content: \"\";width: 100%;border-bottom: 1px solid gray;flex-grow: 1;}div.sk-label:hover label.sk-toggleable__label {background-color: #d4ebff;}div.sk-serial::before {content: \"\";position: absolute;border-left: 1px solid gray;box-sizing: border-box;top: 2em;bottom: 0;left: 50%;}div.sk-serial {display: flex;flex-direction: column;align-items: center;background-color: white;}div.sk-item {z-index: 1;}div.sk-parallel {display: flex;align-items: stretch;justify-content: center;background-color: white;}div.sk-parallel-item {display: flex;flex-direction: column;position: relative;background-color: white;}div.sk-parallel-item:first-child::after {align-self: flex-end;width: 50%;}div.sk-parallel-item:last-child::after {align-self: flex-start;width: 50%;}div.sk-parallel-item:only-child::after {width: 0;}div.sk-dashed-wrapped {border: 1px dashed gray;margin: 0.2em;box-sizing: border-box;padding-bottom: 0.1em;background-color: white;position: relative;}div.sk-label label {font-family: monospace;font-weight: bold;background-color: white;display: inline-block;line-height: 1.2em;}div.sk-label-container {position: relative;z-index: 2;text-align: center;}div.sk-container {display: inline-block;position: relative;}</style><div class=\"sk-top-container\"><div class=\"sk-container\"><div class=\"sk-item sk-dashed-wrapped\"><div class=\"sk-label-container\"><div class=\"sk-label sk-toggleable\"><input class=\"sk-toggleable__control sk-hidden--visually\" id=\"785b74f3-8bc8-4e60-b6b8-c13c8fac70f3\" type=\"checkbox\" ><label class=\"sk-toggleable__label\" for=\"785b74f3-8bc8-4e60-b6b8-c13c8fac70f3\">GridSearchCV</label><div class=\"sk-toggleable__content\"><pre>GridSearchCV(estimator=Pipeline(steps=[('preprocessor',\n",
       "                                        ColumnTransformer(transformers=[('num',\n",
       "                                                                         SimpleImputer(),\n",
       "                                                                         ['Pclass',\n",
       "                                                                          'Age',\n",
       "                                                                          'SibSp',\n",
       "                                                                          'Parch',\n",
       "                                                                          'Fare']),\n",
       "                                                                        ('cat',\n",
       "                                                                         Pipeline(steps=[('imputer',\n",
       "                                                                                          SimpleImputer(strategy='most_frequent')),\n",
       "                                                                                         ('onehot',\n",
       "                                                                                          OneHotEncoder(handle_unknown='ignore'))]),\n",
       "                                                                         ['Sex',\n",
       "                                                                          'Embarked'])])),\n",
       "                                       ('model',\n",
       "                                        RandomForestClassifier(max_depth=4,\n",
       "                                                               random_state=0))]),\n",
       "             n_jobs=-1,\n",
       "             param_grid=[{'model__max_depth': [1, 2, 3, 4, 5, 6, 7, 8, 9, 10],\n",
       "                          'model__n_estimators': [1, 2, 5, 10, 50, 100, 250,\n",
       "                                                  500]}])</pre></div></div></div><div class=\"sk-parallel\"><div class=\"sk-parallel-item\"><div class=\"sk-item\"><div class=\"sk-serial\"><div class=\"sk-item\"><div class=\"sk-serial\"><div class=\"sk-item sk-dashed-wrapped\"><div class=\"sk-label-container\"><div class=\"sk-label sk-toggleable\"><input class=\"sk-toggleable__control sk-hidden--visually\" id=\"088da9de-7b57-42e6-9478-a0e566438273\" type=\"checkbox\" ><label class=\"sk-toggleable__label\" for=\"088da9de-7b57-42e6-9478-a0e566438273\">preprocessor: ColumnTransformer</label><div class=\"sk-toggleable__content\"><pre>ColumnTransformer(transformers=[('num', SimpleImputer(),\n",
       "                                 ['Pclass', 'Age', 'SibSp', 'Parch', 'Fare']),\n",
       "                                ('cat',\n",
       "                                 Pipeline(steps=[('imputer',\n",
       "                                                  SimpleImputer(strategy='most_frequent')),\n",
       "                                                 ('onehot',\n",
       "                                                  OneHotEncoder(handle_unknown='ignore'))]),\n",
       "                                 ['Sex', 'Embarked'])])</pre></div></div></div><div class=\"sk-parallel\"><div class=\"sk-parallel-item\"><div class=\"sk-item\"><div class=\"sk-label-container\"><div class=\"sk-label sk-toggleable\"><input class=\"sk-toggleable__control sk-hidden--visually\" id=\"5a991d33-fac3-4c4b-aa1b-3dd17dc49574\" type=\"checkbox\" ><label class=\"sk-toggleable__label\" for=\"5a991d33-fac3-4c4b-aa1b-3dd17dc49574\">num</label><div class=\"sk-toggleable__content\"><pre>['Pclass', 'Age', 'SibSp', 'Parch', 'Fare']</pre></div></div></div><div class=\"sk-serial\"><div class=\"sk-item\"><div class=\"sk-estimator sk-toggleable\"><input class=\"sk-toggleable__control sk-hidden--visually\" id=\"9e58b27f-9a90-4608-b7bf-61c3bd3e4df1\" type=\"checkbox\" ><label class=\"sk-toggleable__label\" for=\"9e58b27f-9a90-4608-b7bf-61c3bd3e4df1\">SimpleImputer</label><div class=\"sk-toggleable__content\"><pre>SimpleImputer()</pre></div></div></div></div></div></div><div class=\"sk-parallel-item\"><div class=\"sk-item\"><div class=\"sk-label-container\"><div class=\"sk-label sk-toggleable\"><input class=\"sk-toggleable__control sk-hidden--visually\" id=\"996cb80c-5c48-4352-8a92-886f26a2a8fb\" type=\"checkbox\" ><label class=\"sk-toggleable__label\" for=\"996cb80c-5c48-4352-8a92-886f26a2a8fb\">cat</label><div class=\"sk-toggleable__content\"><pre>['Sex', 'Embarked']</pre></div></div></div><div class=\"sk-serial\"><div class=\"sk-item\"><div class=\"sk-serial\"><div class=\"sk-item\"><div class=\"sk-estimator sk-toggleable\"><input class=\"sk-toggleable__control sk-hidden--visually\" id=\"1212c8be-8e28-4067-9604-1ad2024919fb\" type=\"checkbox\" ><label class=\"sk-toggleable__label\" for=\"1212c8be-8e28-4067-9604-1ad2024919fb\">SimpleImputer</label><div class=\"sk-toggleable__content\"><pre>SimpleImputer(strategy='most_frequent')</pre></div></div></div><div class=\"sk-item\"><div class=\"sk-estimator sk-toggleable\"><input class=\"sk-toggleable__control sk-hidden--visually\" id=\"b029fb0f-a3c9-47f9-84e6-2d29c3e3b348\" type=\"checkbox\" ><label class=\"sk-toggleable__label\" for=\"b029fb0f-a3c9-47f9-84e6-2d29c3e3b348\">OneHotEncoder</label><div class=\"sk-toggleable__content\"><pre>OneHotEncoder(handle_unknown='ignore')</pre></div></div></div></div></div></div></div></div></div></div><div class=\"sk-item\"><div class=\"sk-estimator sk-toggleable\"><input class=\"sk-toggleable__control sk-hidden--visually\" id=\"c63589da-27b0-43fa-8e15-b2f3e100f4f7\" type=\"checkbox\" ><label class=\"sk-toggleable__label\" for=\"c63589da-27b0-43fa-8e15-b2f3e100f4f7\">RandomForestClassifier</label><div class=\"sk-toggleable__content\"><pre>RandomForestClassifier(max_depth=4, random_state=0)</pre></div></div></div></div></div></div></div></div></div></div></div></div>"
      ],
      "text/plain": [
       "GridSearchCV(estimator=Pipeline(steps=[('preprocessor',\n",
       "                                        ColumnTransformer(transformers=[('num',\n",
       "                                                                         SimpleImputer(),\n",
       "                                                                         ['Pclass',\n",
       "                                                                          'Age',\n",
       "                                                                          'SibSp',\n",
       "                                                                          'Parch',\n",
       "                                                                          'Fare']),\n",
       "                                                                        ('cat',\n",
       "                                                                         Pipeline(steps=[('imputer',\n",
       "                                                                                          SimpleImputer(strategy='most_frequent')),\n",
       "                                                                                         ('onehot',\n",
       "                                                                                          OneHotEncoder(handle_unknown='ignore'))]),\n",
       "                                                                         ['Sex',\n",
       "                                                                          'Embarked'])])),\n",
       "                                       ('model',\n",
       "                                        RandomForestClassifier(max_depth=4,\n",
       "                                                               random_state=0))]),\n",
       "             n_jobs=-1,\n",
       "             param_grid=[{'model__max_depth': [1, 2, 3, 4, 5, 6, 7, 8, 9, 10],\n",
       "                          'model__n_estimators': [1, 2, 5, 10, 50, 100, 250,\n",
       "                                                  500]}])"
      ]
     },
     "execution_count": 22,
     "metadata": {},
     "output_type": "execute_result"
    }
   ],
   "source": [
    "from sklearn.model_selection import GridSearchCV\n",
    "param_grid=[{'model__n_estimators': [1,2,5,10,50,100,250,500],'model__max_depth': [1,2,3,4,5,6,7,8,9,10]}]\n",
    "\n",
    "grid_values = { 'n_estimators': [1,2,5,10,50,100,250,500], 'max_depth': [1,2,3,4,5,6,7,8,9,10] }\n",
    "grid_clf_acc = GridSearchCV(my_pipeline, param_grid = param_grid,n_jobs=-1)\n",
    "grid_clf_acc.fit(X_train_pipe, y_train)\n",
    "\n"
   ]
  },
  {
   "cell_type": "code",
   "execution_count": 23,
   "id": "historical-expression",
   "metadata": {
    "execution": {
     "iopub.execute_input": "2021-06-14T11:41:35.567591Z",
     "iopub.status.busy": "2021-06-14T11:41:35.566746Z",
     "iopub.status.idle": "2021-06-14T11:41:35.712069Z",
     "shell.execute_reply": "2021-06-14T11:41:35.711416Z",
     "shell.execute_reply.started": "2021-06-14T11:39:58.089768Z"
    },
    "papermill": {
     "duration": 0.18218,
     "end_time": "2021-06-14T11:41:35.712244",
     "exception": false,
     "start_time": "2021-06-14T11:41:35.530064",
     "status": "completed"
    },
    "tags": []
   },
   "outputs": [
    {
     "name": "stdout",
     "output_type": "stream",
     "text": [
      "train score =  0.9087078651685393\n",
      "test score =  0.8379888268156425\n"
     ]
    }
   ],
   "source": [
    "print(\"train score = \",accuracy_score(y_train, grid_clf_acc.predict(X_train_pipe)))\n",
    "print(\"test score = \",accuracy_score(y_valid, grid_clf_acc.predict(X_valid_pipe)))"
   ]
  },
  {
   "cell_type": "markdown",
   "id": "capable-architecture",
   "metadata": {
    "papermill": {
     "duration": 0.029749,
     "end_time": "2021-06-14T11:41:35.772362",
     "exception": false,
     "start_time": "2021-06-14T11:41:35.742613",
     "status": "completed"
    },
    "tags": []
   },
   "source": [
    "# Predictions for the test dataset"
   ]
  },
  {
   "cell_type": "code",
   "execution_count": 24,
   "id": "advanced-sweet",
   "metadata": {
    "execution": {
     "iopub.execute_input": "2021-06-14T11:41:35.836055Z",
     "iopub.status.busy": "2021-06-14T11:41:35.835484Z",
     "iopub.status.idle": "2021-06-14T11:41:35.846423Z",
     "shell.execute_reply": "2021-06-14T11:41:35.845961Z",
     "shell.execute_reply.started": "2021-06-14T11:40:23.767237Z"
    },
    "papermill": {
     "duration": 0.044189,
     "end_time": "2021-06-14T11:41:35.846569",
     "exception": false,
     "start_time": "2021-06-14T11:41:35.802380",
     "status": "completed"
    },
    "tags": []
   },
   "outputs": [],
   "source": [
    "test_data = pd.read_csv(\"/kaggle/input/titanic/test.csv\")\n",
    "X_test=test_data.copy()\n",
    "X_test_pipe = X_test[my_cols].copy()"
   ]
  },
  {
   "cell_type": "code",
   "execution_count": 25,
   "id": "overall-still",
   "metadata": {
    "execution": {
     "iopub.execute_input": "2021-06-14T11:41:35.909778Z",
     "iopub.status.busy": "2021-06-14T11:41:35.909175Z",
     "iopub.status.idle": "2021-06-14T11:41:35.983279Z",
     "shell.execute_reply": "2021-06-14T11:41:35.983741Z",
     "shell.execute_reply.started": "2021-06-14T11:40:26.206976Z"
    },
    "papermill": {
     "duration": 0.107336,
     "end_time": "2021-06-14T11:41:35.983905",
     "exception": false,
     "start_time": "2021-06-14T11:41:35.876569",
     "status": "completed"
    },
    "tags": []
   },
   "outputs": [],
   "source": [
    "test_preds = grid_clf_acc.predict(X_test_pipe)"
   ]
  },
  {
   "cell_type": "code",
   "execution_count": 26,
   "id": "fatal-routine",
   "metadata": {
    "execution": {
     "iopub.execute_input": "2021-06-14T11:41:36.046002Z",
     "iopub.status.busy": "2021-06-14T11:41:36.045397Z",
     "iopub.status.idle": "2021-06-14T11:41:36.055839Z",
     "shell.execute_reply": "2021-06-14T11:41:36.055303Z",
     "shell.execute_reply.started": "2021-06-14T11:40:30.027309Z"
    },
    "papermill": {
     "duration": 0.042269,
     "end_time": "2021-06-14T11:41:36.055993",
     "exception": false,
     "start_time": "2021-06-14T11:41:36.013724",
     "status": "completed"
    },
    "tags": []
   },
   "outputs": [
    {
     "name": "stdout",
     "output_type": "stream",
     "text": [
      "Your submission was successfully saved!\n"
     ]
    }
   ],
   "source": [
    "output = pd.DataFrame({'PassengerId': test_data.PassengerId, 'Survived': test_preds})\n",
    "output.to_csv('my_submission.csv', index=False)\n",
    "print(\"Your submission was successfully saved!\")"
   ]
  },
  {
   "cell_type": "code",
   "execution_count": null,
   "id": "hazardous-dominant",
   "metadata": {
    "papermill": {
     "duration": 0.029821,
     "end_time": "2021-06-14T11:41:36.116657",
     "exception": false,
     "start_time": "2021-06-14T11:41:36.086836",
     "status": "completed"
    },
    "tags": []
   },
   "outputs": [],
   "source": []
  }
 ],
 "metadata": {
  "kernelspec": {
   "display_name": "Python 3",
   "language": "python",
   "name": "python3"
  },
  "language_info": {
   "codemirror_mode": {
    "name": "ipython",
    "version": 3
   },
   "file_extension": ".py",
   "mimetype": "text/x-python",
   "name": "python",
   "nbconvert_exporter": "python",
   "pygments_lexer": "ipython3",
   "version": "3.7.10"
  },
  "papermill": {
   "default_parameters": {},
   "duration": 48.766549,
   "end_time": "2021-06-14T11:41:37.792424",
   "environment_variables": {},
   "exception": null,
   "input_path": "__notebook__.ipynb",
   "output_path": "__notebook__.ipynb",
   "parameters": {},
   "start_time": "2021-06-14T11:40:49.025875",
   "version": "2.3.3"
  }
 },
 "nbformat": 4,
 "nbformat_minor": 5
}
